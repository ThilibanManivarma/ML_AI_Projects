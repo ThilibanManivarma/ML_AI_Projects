{
 "cells": [
  {
   "cell_type": "code",
   "execution_count": 19,
   "metadata": {},
   "outputs": [
    {
     "data": {
      "text/html": [
       "<div>\n",
       "<style scoped>\n",
       "    .dataframe tbody tr th:only-of-type {\n",
       "        vertical-align: middle;\n",
       "    }\n",
       "\n",
       "    .dataframe tbody tr th {\n",
       "        vertical-align: top;\n",
       "    }\n",
       "\n",
       "    .dataframe thead th {\n",
       "        text-align: right;\n",
       "    }\n",
       "</style>\n",
       "<table border=\"1\" class=\"dataframe\">\n",
       "  <thead>\n",
       "    <tr style=\"text-align: right;\">\n",
       "      <th></th>\n",
       "      <th>GENUS</th>\n",
       "      <th>GLYCOPROTEIN</th>\n",
       "      <th>SPECIES/Strains</th>\n",
       "      <th>UNIPROT ID</th>\n",
       "      <th>AA LENGTH</th>\n",
       "      <th>Pi</th>\n",
       "      <th>Mol.Wt(KD)</th>\n",
       "      <th>Hydropathy</th>\n",
       "      <th>Helix (%)</th>\n",
       "      <th>Loop</th>\n",
       "      <th>Strand</th>\n",
       "      <th>E(%)</th>\n",
       "      <th>T</th>\n",
       "      <th>Q</th>\n",
       "      <th>G</th>\n",
       "      <th>label</th>\n",
       "    </tr>\n",
       "  </thead>\n",
       "  <tbody>\n",
       "    <tr>\n",
       "      <th>0</th>\n",
       "      <td>HENIPA VIRUS</td>\n",
       "      <td>G</td>\n",
       "      <td>NIPAH VIRUS</td>\n",
       "      <td>Q9IH62</td>\n",
       "      <td>602</td>\n",
       "      <td>8.58</td>\n",
       "      <td>67.05</td>\n",
       "      <td>-0.17</td>\n",
       "      <td>12.46</td>\n",
       "      <td>58.46</td>\n",
       "      <td>28.90</td>\n",
       "      <td>4.32</td>\n",
       "      <td>6.15</td>\n",
       "      <td>4.15</td>\n",
       "      <td>6.64</td>\n",
       "      <td>YES</td>\n",
       "    </tr>\n",
       "    <tr>\n",
       "      <th>1</th>\n",
       "      <td>NaN</td>\n",
       "      <td>NaN</td>\n",
       "      <td>HENDRA VIRUS</td>\n",
       "      <td>O89343</td>\n",
       "      <td>604</td>\n",
       "      <td>7.42</td>\n",
       "      <td>67.20</td>\n",
       "      <td>-0.12</td>\n",
       "      <td>13.58</td>\n",
       "      <td>58.94</td>\n",
       "      <td>27.48</td>\n",
       "      <td>3.64</td>\n",
       "      <td>6.29</td>\n",
       "      <td>4.14</td>\n",
       "      <td>6.13</td>\n",
       "      <td>YES</td>\n",
       "    </tr>\n",
       "    <tr>\n",
       "      <th>2</th>\n",
       "      <td>NaN</td>\n",
       "      <td>NaN</td>\n",
       "      <td>CEDAR VIRUS</td>\n",
       "      <td>J7H333</td>\n",
       "      <td>622</td>\n",
       "      <td>7.08</td>\n",
       "      <td>70.64</td>\n",
       "      <td>-0.33</td>\n",
       "      <td>12.38</td>\n",
       "      <td>59.00</td>\n",
       "      <td>28.62</td>\n",
       "      <td>4.34</td>\n",
       "      <td>6.75</td>\n",
       "      <td>3.22</td>\n",
       "      <td>4.66</td>\n",
       "      <td>YES</td>\n",
       "    </tr>\n",
       "    <tr>\n",
       "      <th>3</th>\n",
       "      <td>NaN</td>\n",
       "      <td>NaN</td>\n",
       "      <td>GHANIAN VIRUS</td>\n",
       "      <td>I0E093</td>\n",
       "      <td>632</td>\n",
       "      <td>7.96</td>\n",
       "      <td>72.30</td>\n",
       "      <td>-0.29</td>\n",
       "      <td>12.50</td>\n",
       "      <td>60.28</td>\n",
       "      <td>27.22</td>\n",
       "      <td>4.75</td>\n",
       "      <td>9.18</td>\n",
       "      <td>3.22</td>\n",
       "      <td>3.96</td>\n",
       "      <td>YES</td>\n",
       "    </tr>\n",
       "    <tr>\n",
       "      <th>4</th>\n",
       "      <td>NaN</td>\n",
       "      <td>NaN</td>\n",
       "      <td>MOJIANG VIRUS</td>\n",
       "      <td>W8TIR7</td>\n",
       "      <td>625</td>\n",
       "      <td>5.63</td>\n",
       "      <td>69.12</td>\n",
       "      <td>-0.27</td>\n",
       "      <td>12.16</td>\n",
       "      <td>59.68</td>\n",
       "      <td>28.16</td>\n",
       "      <td>4.00</td>\n",
       "      <td>8.16</td>\n",
       "      <td>4.16</td>\n",
       "      <td>7.68</td>\n",
       "      <td>YES</td>\n",
       "    </tr>\n",
       "  </tbody>\n",
       "</table>\n",
       "</div>"
      ],
      "text/plain": [
       "          GENUS GLYCOPROTEIN SPECIES/Strains UNIPROT ID  AA LENGTH   Pi   \\\n",
       "0  HENIPA VIRUS           G      NIPAH VIRUS     Q9IH62        602  8.58   \n",
       "1           NaN          NaN    HENDRA VIRUS     O89343        604  7.42   \n",
       "2           NaN          NaN     CEDAR VIRUS     J7H333        622  7.08   \n",
       "3           NaN          NaN   GHANIAN VIRUS     I0E093        632  7.96   \n",
       "4           NaN          NaN   MOJIANG VIRUS     W8TIR7        625  5.63   \n",
       "\n",
       "   Mol.Wt(KD)  Hydropathy  Helix (%)  Loop   Strand   E(%)     T     Q     G  \\\n",
       "0       67.05       -0.17      12.46  58.46    28.90  4.32  6.15  4.15  6.64   \n",
       "1       67.20       -0.12      13.58  58.94    27.48  3.64  6.29  4.14  6.13   \n",
       "2       70.64       -0.33      12.38  59.00    28.62  4.34  6.75  3.22  4.66   \n",
       "3       72.30       -0.29      12.50  60.28    27.22  4.75  9.18  3.22  3.96   \n",
       "4       69.12       -0.27      12.16  59.68    28.16  4.00  8.16  4.16  7.68   \n",
       "\n",
       "  label  \n",
       "0   YES  \n",
       "1   YES  \n",
       "2   YES  \n",
       "3   YES  \n",
       "4   YES  "
      ]
     },
     "execution_count": 19,
     "metadata": {},
     "output_type": "execute_result"
    }
   ],
   "source": [
    "import pandas as pd\n",
    "import numpy as np\n",
    "\n",
    "data = pd.read_csv(r'nipah_virus_datasets1.csv')\n",
    "data.head(5)"
   ]
  },
  {
   "cell_type": "markdown",
   "metadata": {},
   "source": []
  },
  {
   "cell_type": "code",
   "execution_count": 20,
   "metadata": {},
   "outputs": [
    {
     "data": {
      "text/html": [
       "<div>\n",
       "<style scoped>\n",
       "    .dataframe tbody tr th:only-of-type {\n",
       "        vertical-align: middle;\n",
       "    }\n",
       "\n",
       "    .dataframe tbody tr th {\n",
       "        vertical-align: top;\n",
       "    }\n",
       "\n",
       "    .dataframe thead th {\n",
       "        text-align: right;\n",
       "    }\n",
       "</style>\n",
       "<table border=\"1\" class=\"dataframe\">\n",
       "  <thead>\n",
       "    <tr style=\"text-align: right;\">\n",
       "      <th></th>\n",
       "      <th>AA LENGTH</th>\n",
       "      <th>Pi</th>\n",
       "      <th>Mol.Wt(KD)</th>\n",
       "      <th>Hydropathy</th>\n",
       "      <th>Helix (%)</th>\n",
       "      <th>Loop</th>\n",
       "      <th>Strand</th>\n",
       "      <th>E(%)</th>\n",
       "      <th>T</th>\n",
       "      <th>Q</th>\n",
       "      <th>G</th>\n",
       "    </tr>\n",
       "  </thead>\n",
       "  <tbody>\n",
       "    <tr>\n",
       "      <th>0</th>\n",
       "      <td>602</td>\n",
       "      <td>8.58</td>\n",
       "      <td>67.05</td>\n",
       "      <td>-0.17</td>\n",
       "      <td>12.46</td>\n",
       "      <td>58.46</td>\n",
       "      <td>28.90</td>\n",
       "      <td>4.32</td>\n",
       "      <td>6.15</td>\n",
       "      <td>4.15</td>\n",
       "      <td>6.64</td>\n",
       "    </tr>\n",
       "    <tr>\n",
       "      <th>1</th>\n",
       "      <td>604</td>\n",
       "      <td>7.42</td>\n",
       "      <td>67.20</td>\n",
       "      <td>-0.12</td>\n",
       "      <td>13.58</td>\n",
       "      <td>58.94</td>\n",
       "      <td>27.48</td>\n",
       "      <td>3.64</td>\n",
       "      <td>6.29</td>\n",
       "      <td>4.14</td>\n",
       "      <td>6.13</td>\n",
       "    </tr>\n",
       "    <tr>\n",
       "      <th>2</th>\n",
       "      <td>622</td>\n",
       "      <td>7.08</td>\n",
       "      <td>70.64</td>\n",
       "      <td>-0.33</td>\n",
       "      <td>12.38</td>\n",
       "      <td>59.00</td>\n",
       "      <td>28.62</td>\n",
       "      <td>4.34</td>\n",
       "      <td>6.75</td>\n",
       "      <td>3.22</td>\n",
       "      <td>4.66</td>\n",
       "    </tr>\n",
       "    <tr>\n",
       "      <th>3</th>\n",
       "      <td>632</td>\n",
       "      <td>7.96</td>\n",
       "      <td>72.30</td>\n",
       "      <td>-0.29</td>\n",
       "      <td>12.50</td>\n",
       "      <td>60.28</td>\n",
       "      <td>27.22</td>\n",
       "      <td>4.75</td>\n",
       "      <td>9.18</td>\n",
       "      <td>3.22</td>\n",
       "      <td>3.96</td>\n",
       "    </tr>\n",
       "    <tr>\n",
       "      <th>4</th>\n",
       "      <td>625</td>\n",
       "      <td>5.63</td>\n",
       "      <td>69.12</td>\n",
       "      <td>-0.27</td>\n",
       "      <td>12.16</td>\n",
       "      <td>59.68</td>\n",
       "      <td>28.16</td>\n",
       "      <td>4.00</td>\n",
       "      <td>8.16</td>\n",
       "      <td>4.16</td>\n",
       "      <td>7.68</td>\n",
       "    </tr>\n",
       "  </tbody>\n",
       "</table>\n",
       "</div>"
      ],
      "text/plain": [
       "   AA LENGTH   Pi   Mol.Wt(KD)  Hydropathy  Helix (%)  Loop   Strand   E(%)  \\\n",
       "0        602  8.58       67.05       -0.17      12.46  58.46    28.90  4.32   \n",
       "1        604  7.42       67.20       -0.12      13.58  58.94    27.48  3.64   \n",
       "2        622  7.08       70.64       -0.33      12.38  59.00    28.62  4.34   \n",
       "3        632  7.96       72.30       -0.29      12.50  60.28    27.22  4.75   \n",
       "4        625  5.63       69.12       -0.27      12.16  59.68    28.16  4.00   \n",
       "\n",
       "      T     Q     G  \n",
       "0  6.15  4.15  6.64  \n",
       "1  6.29  4.14  6.13  \n",
       "2  6.75  3.22  4.66  \n",
       "3  9.18  3.22  3.96  \n",
       "4  8.16  4.16  7.68  "
      ]
     },
     "execution_count": 20,
     "metadata": {},
     "output_type": "execute_result"
    }
   ],
   "source": [
    "X = data.iloc[:, 4:15] #training data\n",
    "X.head(5)"
   ]
  },
  {
   "cell_type": "code",
   "execution_count": 21,
   "metadata": {},
   "outputs": [
    {
     "data": {
      "text/plain": [
       "0    YES\n",
       "1    YES\n",
       "2    YES\n",
       "3    YES\n",
       "4    YES\n",
       "Name: label, dtype: object"
      ]
     },
     "execution_count": 21,
     "metadata": {},
     "output_type": "execute_result"
    }
   ],
   "source": [
    "y = data.iloc[:, -1] #target\n",
    "y.head(5)"
   ]
  },
  {
   "cell_type": "code",
   "execution_count": 22,
   "metadata": {},
   "outputs": [
    {
     "data": {
      "text/plain": [
       "(76, 11)"
      ]
     },
     "execution_count": 22,
     "metadata": {},
     "output_type": "execute_result"
    }
   ],
   "source": [
    "X.shape"
   ]
  },
  {
   "cell_type": "code",
   "execution_count": 23,
   "metadata": {},
   "outputs": [
    {
     "data": {
      "text/plain": [
       "(76,)"
      ]
     },
     "execution_count": 23,
     "metadata": {},
     "output_type": "execute_result"
    }
   ],
   "source": [
    "y.shape"
   ]
  },
  {
   "cell_type": "code",
   "execution_count": 24,
   "metadata": {},
   "outputs": [],
   "source": [
    "from sklearn.model_selection import train_test_split\n",
    "X_train, X_test, y_train, y_test = train_test_split(X,y,\n",
    "                                                    test_size=0.30)\n"
   ]
  },
  {
   "cell_type": "code",
   "execution_count": 25,
   "metadata": {},
   "outputs": [],
   "source": [
    "from sklearn.neighbors import KNeighborsClassifier\n",
    "knn = KNeighborsClassifier(n_neighbors=1)"
   ]
  },
  {
   "cell_type": "code",
   "execution_count": 26,
   "metadata": {},
   "outputs": [
    {
     "data": {
      "text/html": [
       "<style>#sk-container-id-2 {color: black;}#sk-container-id-2 pre{padding: 0;}#sk-container-id-2 div.sk-toggleable {background-color: white;}#sk-container-id-2 label.sk-toggleable__label {cursor: pointer;display: block;width: 100%;margin-bottom: 0;padding: 0.3em;box-sizing: border-box;text-align: center;}#sk-container-id-2 label.sk-toggleable__label-arrow:before {content: \"▸\";float: left;margin-right: 0.25em;color: #696969;}#sk-container-id-2 label.sk-toggleable__label-arrow:hover:before {color: black;}#sk-container-id-2 div.sk-estimator:hover label.sk-toggleable__label-arrow:before {color: black;}#sk-container-id-2 div.sk-toggleable__content {max-height: 0;max-width: 0;overflow: hidden;text-align: left;background-color: #f0f8ff;}#sk-container-id-2 div.sk-toggleable__content pre {margin: 0.2em;color: black;border-radius: 0.25em;background-color: #f0f8ff;}#sk-container-id-2 input.sk-toggleable__control:checked~div.sk-toggleable__content {max-height: 200px;max-width: 100%;overflow: auto;}#sk-container-id-2 input.sk-toggleable__control:checked~label.sk-toggleable__label-arrow:before {content: \"▾\";}#sk-container-id-2 div.sk-estimator input.sk-toggleable__control:checked~label.sk-toggleable__label {background-color: #d4ebff;}#sk-container-id-2 div.sk-label input.sk-toggleable__control:checked~label.sk-toggleable__label {background-color: #d4ebff;}#sk-container-id-2 input.sk-hidden--visually {border: 0;clip: rect(1px 1px 1px 1px);clip: rect(1px, 1px, 1px, 1px);height: 1px;margin: -1px;overflow: hidden;padding: 0;position: absolute;width: 1px;}#sk-container-id-2 div.sk-estimator {font-family: monospace;background-color: #f0f8ff;border: 1px dotted black;border-radius: 0.25em;box-sizing: border-box;margin-bottom: 0.5em;}#sk-container-id-2 div.sk-estimator:hover {background-color: #d4ebff;}#sk-container-id-2 div.sk-parallel-item::after {content: \"\";width: 100%;border-bottom: 1px solid gray;flex-grow: 1;}#sk-container-id-2 div.sk-label:hover label.sk-toggleable__label {background-color: #d4ebff;}#sk-container-id-2 div.sk-serial::before {content: \"\";position: absolute;border-left: 1px solid gray;box-sizing: border-box;top: 0;bottom: 0;left: 50%;z-index: 0;}#sk-container-id-2 div.sk-serial {display: flex;flex-direction: column;align-items: center;background-color: white;padding-right: 0.2em;padding-left: 0.2em;position: relative;}#sk-container-id-2 div.sk-item {position: relative;z-index: 1;}#sk-container-id-2 div.sk-parallel {display: flex;align-items: stretch;justify-content: center;background-color: white;position: relative;}#sk-container-id-2 div.sk-item::before, #sk-container-id-2 div.sk-parallel-item::before {content: \"\";position: absolute;border-left: 1px solid gray;box-sizing: border-box;top: 0;bottom: 0;left: 50%;z-index: -1;}#sk-container-id-2 div.sk-parallel-item {display: flex;flex-direction: column;z-index: 1;position: relative;background-color: white;}#sk-container-id-2 div.sk-parallel-item:first-child::after {align-self: flex-end;width: 50%;}#sk-container-id-2 div.sk-parallel-item:last-child::after {align-self: flex-start;width: 50%;}#sk-container-id-2 div.sk-parallel-item:only-child::after {width: 0;}#sk-container-id-2 div.sk-dashed-wrapped {border: 1px dashed gray;margin: 0 0.4em 0.5em 0.4em;box-sizing: border-box;padding-bottom: 0.4em;background-color: white;}#sk-container-id-2 div.sk-label label {font-family: monospace;font-weight: bold;display: inline-block;line-height: 1.2em;}#sk-container-id-2 div.sk-label-container {text-align: center;}#sk-container-id-2 div.sk-container {/* jupyter's `normalize.less` sets `[hidden] { display: none; }` but bootstrap.min.css set `[hidden] { display: none !important; }` so we also need the `!important` here to be able to override the default hidden behavior on the sphinx rendered scikit-learn.org. See: https://github.com/scikit-learn/scikit-learn/issues/21755 */display: inline-block !important;position: relative;}#sk-container-id-2 div.sk-text-repr-fallback {display: none;}</style><div id=\"sk-container-id-2\" class=\"sk-top-container\"><div class=\"sk-text-repr-fallback\"><pre>KNeighborsClassifier(n_neighbors=1)</pre><b>In a Jupyter environment, please rerun this cell to show the HTML representation or trust the notebook. <br />On GitHub, the HTML representation is unable to render, please try loading this page with nbviewer.org.</b></div><div class=\"sk-container\" hidden><div class=\"sk-item\"><div class=\"sk-estimator sk-toggleable\"><input class=\"sk-toggleable__control sk-hidden--visually\" id=\"sk-estimator-id-2\" type=\"checkbox\" checked><label for=\"sk-estimator-id-2\" class=\"sk-toggleable__label sk-toggleable__label-arrow\">KNeighborsClassifier</label><div class=\"sk-toggleable__content\"><pre>KNeighborsClassifier(n_neighbors=1)</pre></div></div></div></div></div>"
      ],
      "text/plain": [
       "KNeighborsClassifier(n_neighbors=1)"
      ]
     },
     "execution_count": 26,
     "metadata": {},
     "output_type": "execute_result"
    }
   ],
   "source": [
    "knn.fit(X_train,y_train)"
   ]
  },
  {
   "cell_type": "code",
   "execution_count": 27,
   "metadata": {},
   "outputs": [],
   "source": [
    "pred = knn.predict(X_test)"
   ]
  },
  {
   "cell_type": "code",
   "execution_count": 28,
   "metadata": {},
   "outputs": [],
   "source": [
    "from sklearn.metrics import classification_report,confusion_matrix\n",
    "from sklearn.model_selection import cross_val_score\n"
   ]
  },
  {
   "cell_type": "code",
   "execution_count": 29,
   "metadata": {},
   "outputs": [
    {
     "name": "stdout",
     "output_type": "stream",
     "text": [
      "[[ 9  0]\n",
      " [ 0 14]]\n"
     ]
    }
   ],
   "source": [
    "print(confusion_matrix(y_test,pred))"
   ]
  },
  {
   "cell_type": "code",
   "execution_count": 30,
   "metadata": {},
   "outputs": [
    {
     "name": "stdout",
     "output_type": "stream",
     "text": [
      "              precision    recall  f1-score   support\n",
      "\n",
      "          NO       1.00      1.00      1.00         9\n",
      "         YES       1.00      1.00      1.00        14\n",
      "\n",
      "    accuracy                           1.00        23\n",
      "   macro avg       1.00      1.00      1.00        23\n",
      "weighted avg       1.00      1.00      1.00        23\n",
      "\n"
     ]
    }
   ],
   "source": [
    "print(classification_report(y_test,pred))"
   ]
  },
  {
   "cell_type": "code",
   "execution_count": 31,
   "metadata": {},
   "outputs": [
    {
     "name": "stderr",
     "output_type": "stream",
     "text": [
      "c:\\Users\\thiliban\\anaconda3\\envs\\machinelearning\\lib\\site-packages\\sklearn\\base.py:465: UserWarning: X does not have valid feature names, but KNeighborsClassifier was fitted with feature names\n",
      "  warnings.warn(\n"
     ]
    },
    {
     "data": {
      "text/plain": [
       "array(['YES'], dtype=object)"
      ]
     },
     "execution_count": 31,
     "metadata": {},
     "output_type": "execute_result"
    }
   ],
   "source": [
    "X_new = np.array([[602,8.58,67,-0.15,12,50,28,4,6,4,10]])\n",
    "prediction = knn.predict(X_new)\n",
    "prediction"
   ]
  },
  {
   "cell_type": "code",
   "execution_count": 32,
   "metadata": {},
   "outputs": [
    {
     "name": "stderr",
     "output_type": "stream",
     "text": [
      "c:\\Users\\thiliban\\anaconda3\\envs\\machinelearning\\lib\\site-packages\\sklearn\\base.py:465: UserWarning: X does not have valid feature names, but KNeighborsClassifier was fitted with feature names\n",
      "  warnings.warn(\n"
     ]
    },
    {
     "data": {
      "text/plain": [
       "array(['NO'], dtype=object)"
      ]
     },
     "execution_count": 32,
     "metadata": {},
     "output_type": "execute_result"
    }
   ],
   "source": [
    "X1_new = np.array([[400,5,50,-0.1,12,40,50,28,1,2,3]])\n",
    "prediction = knn.predict(X1_new)\n",
    "prediction"
   ]
  },
  {
   "cell_type": "code",
   "execution_count": 37,
   "metadata": {},
   "outputs": [
    {
     "data": {
      "text/plain": [
       "numpy.ndarray"
      ]
     },
     "execution_count": 37,
     "metadata": {},
     "output_type": "execute_result"
    }
   ],
   "source": [
    "type(prediction)"
   ]
  },
  {
   "cell_type": "code",
   "execution_count": 38,
   "metadata": {},
   "outputs": [
    {
     "data": {
      "text/plain": [
       "'NO'"
      ]
     },
     "execution_count": 38,
     "metadata": {},
     "output_type": "execute_result"
    }
   ],
   "source": [
    "prediction[0]"
   ]
  },
  {
   "cell_type": "code",
   "execution_count": 33,
   "metadata": {},
   "outputs": [
    {
     "data": {
      "text/html": [
       "<div>\n",
       "<style scoped>\n",
       "    .dataframe tbody tr th:only-of-type {\n",
       "        vertical-align: middle;\n",
       "    }\n",
       "\n",
       "    .dataframe tbody tr th {\n",
       "        vertical-align: top;\n",
       "    }\n",
       "\n",
       "    .dataframe thead th {\n",
       "        text-align: right;\n",
       "    }\n",
       "</style>\n",
       "<table border=\"1\" class=\"dataframe\">\n",
       "  <thead>\n",
       "    <tr style=\"text-align: right;\">\n",
       "      <th></th>\n",
       "      <th>AA LENGTH</th>\n",
       "      <th>Pi</th>\n",
       "      <th>Mol.Wt(KD)</th>\n",
       "      <th>Hydropathy</th>\n",
       "      <th>Helix (%)</th>\n",
       "      <th>Loop</th>\n",
       "      <th>Strand</th>\n",
       "      <th>E(%)</th>\n",
       "      <th>T</th>\n",
       "      <th>Q</th>\n",
       "      <th>G</th>\n",
       "    </tr>\n",
       "  </thead>\n",
       "  <tbody>\n",
       "    <tr>\n",
       "      <th>0</th>\n",
       "      <td>602</td>\n",
       "      <td>8.58</td>\n",
       "      <td>67.05</td>\n",
       "      <td>-0.17</td>\n",
       "      <td>12.46</td>\n",
       "      <td>58.46</td>\n",
       "      <td>28.90</td>\n",
       "      <td>4.32</td>\n",
       "      <td>6.15</td>\n",
       "      <td>4.15</td>\n",
       "      <td>6.64</td>\n",
       "    </tr>\n",
       "    <tr>\n",
       "      <th>1</th>\n",
       "      <td>604</td>\n",
       "      <td>7.42</td>\n",
       "      <td>67.20</td>\n",
       "      <td>-0.12</td>\n",
       "      <td>13.58</td>\n",
       "      <td>58.94</td>\n",
       "      <td>27.48</td>\n",
       "      <td>3.64</td>\n",
       "      <td>6.29</td>\n",
       "      <td>4.14</td>\n",
       "      <td>6.13</td>\n",
       "    </tr>\n",
       "  </tbody>\n",
       "</table>\n",
       "</div>"
      ],
      "text/plain": [
       "   AA LENGTH   Pi   Mol.Wt(KD)  Hydropathy  Helix (%)  Loop   Strand   E(%)  \\\n",
       "0        602  8.58       67.05       -0.17      12.46  58.46    28.90  4.32   \n",
       "1        604  7.42       67.20       -0.12      13.58  58.94    27.48  3.64   \n",
       "\n",
       "      T     Q     G  \n",
       "0  6.15  4.15  6.64  \n",
       "1  6.29  4.14  6.13  "
      ]
     },
     "execution_count": 33,
     "metadata": {},
     "output_type": "execute_result"
    }
   ],
   "source": [
    "X.head(2)"
   ]
  },
  {
   "cell_type": "code",
   "execution_count": 34,
   "metadata": {},
   "outputs": [],
   "source": [
    "import joblib"
   ]
  },
  {
   "cell_type": "code",
   "execution_count": 35,
   "metadata": {},
   "outputs": [
    {
     "data": {
      "text/plain": [
       "['knnmodel.joblib']"
      ]
     },
     "execution_count": 35,
     "metadata": {},
     "output_type": "execute_result"
    }
   ],
   "source": [
    "joblib.dump(knn, 'knnmodel.joblib') "
   ]
  },
  {
   "cell_type": "code",
   "execution_count": 36,
   "metadata": {},
   "outputs": [
    {
     "data": {
      "text/plain": [
       "Index(['AA LENGTH', 'Pi ', 'Mol.Wt(KD)', 'Hydropathy', 'Helix (%)', 'Loop ',\n",
       "       'Strand ', 'E(%)', 'T', 'Q', 'G'],\n",
       "      dtype='object')"
      ]
     },
     "execution_count": 36,
     "metadata": {},
     "output_type": "execute_result"
    }
   ],
   "source": [
    "X.columns"
   ]
  },
  {
   "cell_type": "code",
   "execution_count": null,
   "metadata": {},
   "outputs": [],
   "source": []
  },
  {
   "cell_type": "code",
   "execution_count": null,
   "metadata": {},
   "outputs": [],
   "source": []
  },
  {
   "cell_type": "code",
   "execution_count": null,
   "metadata": {},
   "outputs": [],
   "source": []
  },
  {
   "cell_type": "code",
   "execution_count": null,
   "metadata": {},
   "outputs": [],
   "source": []
  },
  {
   "cell_type": "code",
   "execution_count": null,
   "metadata": {},
   "outputs": [],
   "source": []
  },
  {
   "cell_type": "code",
   "execution_count": null,
   "metadata": {},
   "outputs": [],
   "source": []
  },
  {
   "cell_type": "code",
   "execution_count": null,
   "metadata": {},
   "outputs": [],
   "source": []
  },
  {
   "cell_type": "code",
   "execution_count": null,
   "metadata": {},
   "outputs": [],
   "source": []
  },
  {
   "cell_type": "code",
   "execution_count": null,
   "metadata": {},
   "outputs": [],
   "source": []
  },
  {
   "cell_type": "code",
   "execution_count": null,
   "metadata": {},
   "outputs": [],
   "source": []
  },
  {
   "cell_type": "code",
   "execution_count": null,
   "metadata": {},
   "outputs": [],
   "source": []
  },
  {
   "cell_type": "code",
   "execution_count": null,
   "metadata": {},
   "outputs": [],
   "source": []
  },
  {
   "cell_type": "code",
   "execution_count": null,
   "metadata": {},
   "outputs": [],
   "source": []
  },
  {
   "cell_type": "code",
   "execution_count": null,
   "metadata": {},
   "outputs": [],
   "source": []
  }
 ],
 "metadata": {
  "kernelspec": {
   "display_name": "machinelearning",
   "language": "python",
   "name": "machinelearning"
  },
  "language_info": {
   "codemirror_mode": {
    "name": "ipython",
    "version": 3
   },
   "file_extension": ".py",
   "mimetype": "text/x-python",
   "name": "python",
   "nbconvert_exporter": "python",
   "pygments_lexer": "ipython3",
   "version": "3.8.18"
  }
 },
 "nbformat": 4,
 "nbformat_minor": 4
}
